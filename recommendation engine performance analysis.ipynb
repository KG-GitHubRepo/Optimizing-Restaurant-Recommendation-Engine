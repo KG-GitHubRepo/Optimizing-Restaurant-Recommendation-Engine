{
 "cells": [
  {
   "cell_type": "code",
   "execution_count": 1,
   "metadata": {},
   "outputs": [],
   "source": [
    "import pandas as pd\n",
    "import numpy as np\n",
    "import matplotlib.pyplot as plt\n",
    "import seaborn as sns"
   ]
  },
  {
   "cell_type": "code",
   "execution_count": 2,
   "metadata": {},
   "outputs": [],
   "source": [
    "df=pd.read_csv(r'restaurant-DataSet.csv')"
   ]
  },
  {
   "cell_type": "code",
   "execution_count": 3,
   "metadata": {},
   "outputs": [
    {
     "data": {
      "text/html": [
       "<div>\n",
       "<style scoped>\n",
       "    .dataframe tbody tr th:only-of-type {\n",
       "        vertical-align: middle;\n",
       "    }\n",
       "\n",
       "    .dataframe tbody tr th {\n",
       "        vertical-align: top;\n",
       "    }\n",
       "\n",
       "    .dataframe thead th {\n",
       "        text-align: right;\n",
       "    }\n",
       "</style>\n",
       "<table border=\"1\" class=\"dataframe\">\n",
       "  <thead>\n",
       "    <tr style=\"text-align: right;\">\n",
       "      <th></th>\n",
       "      <th>User_ID</th>\n",
       "      <th>Age_Group</th>\n",
       "      <th>Preferred_Cuisine</th>\n",
       "      <th>Last_Visited_Restaurant</th>\n",
       "      <th>Recommendation_Clicked</th>\n",
       "      <th>Reservation_Made</th>\n",
       "      <th>Visit_Rating</th>\n",
       "    </tr>\n",
       "  </thead>\n",
       "  <tbody>\n",
       "    <tr>\n",
       "      <th>0</th>\n",
       "      <td>A001</td>\n",
       "      <td>36-45</td>\n",
       "      <td>Chinese</td>\n",
       "      <td>Ocean Bites</td>\n",
       "      <td>Yes</td>\n",
       "      <td>Yes</td>\n",
       "      <td>3.4</td>\n",
       "    </tr>\n",
       "    <tr>\n",
       "      <th>1</th>\n",
       "      <td>A002</td>\n",
       "      <td>36-45</td>\n",
       "      <td>Italian</td>\n",
       "      <td>Elite Eatery</td>\n",
       "      <td>No</td>\n",
       "      <td>No</td>\n",
       "      <td>NaN</td>\n",
       "    </tr>\n",
       "    <tr>\n",
       "      <th>2</th>\n",
       "      <td>A003</td>\n",
       "      <td>36-45</td>\n",
       "      <td>Mexican</td>\n",
       "      <td>Spicy Affair</td>\n",
       "      <td>Yes</td>\n",
       "      <td>No</td>\n",
       "      <td>NaN</td>\n",
       "    </tr>\n",
       "    <tr>\n",
       "      <th>3</th>\n",
       "      <td>A004</td>\n",
       "      <td>46-55</td>\n",
       "      <td>North Indian</td>\n",
       "      <td>Curry Corner</td>\n",
       "      <td>Yes</td>\n",
       "      <td>No</td>\n",
       "      <td>NaN</td>\n",
       "    </tr>\n",
       "    <tr>\n",
       "      <th>4</th>\n",
       "      <td>A005</td>\n",
       "      <td>36-45</td>\n",
       "      <td>North Indian</td>\n",
       "      <td>Pasta Palace</td>\n",
       "      <td>Yes</td>\n",
       "      <td>No</td>\n",
       "      <td>NaN</td>\n",
       "    </tr>\n",
       "    <tr>\n",
       "      <th>...</th>\n",
       "      <td>...</td>\n",
       "      <td>...</td>\n",
       "      <td>...</td>\n",
       "      <td>...</td>\n",
       "      <td>...</td>\n",
       "      <td>...</td>\n",
       "      <td>...</td>\n",
       "    </tr>\n",
       "    <tr>\n",
       "      <th>995</th>\n",
       "      <td>A996</td>\n",
       "      <td>18-25</td>\n",
       "      <td>Italian</td>\n",
       "      <td>Curry Corner</td>\n",
       "      <td>Yes</td>\n",
       "      <td>Yes</td>\n",
       "      <td>4.1</td>\n",
       "    </tr>\n",
       "    <tr>\n",
       "      <th>996</th>\n",
       "      <td>A997</td>\n",
       "      <td>46-55</td>\n",
       "      <td>North Indian</td>\n",
       "      <td>Fishy Feast</td>\n",
       "      <td>No</td>\n",
       "      <td>No</td>\n",
       "      <td>NaN</td>\n",
       "    </tr>\n",
       "    <tr>\n",
       "      <th>997</th>\n",
       "      <td>A998</td>\n",
       "      <td>46-55</td>\n",
       "      <td>Continental</td>\n",
       "      <td>Fishy Feast</td>\n",
       "      <td>Yes</td>\n",
       "      <td>Yes</td>\n",
       "      <td>3.2</td>\n",
       "    </tr>\n",
       "    <tr>\n",
       "      <th>998</th>\n",
       "      <td>A999</td>\n",
       "      <td>46-55</td>\n",
       "      <td>North Indian</td>\n",
       "      <td>Bella Italia</td>\n",
       "      <td>No</td>\n",
       "      <td>No</td>\n",
       "      <td>NaN</td>\n",
       "    </tr>\n",
       "    <tr>\n",
       "      <th>999</th>\n",
       "      <td>A1000</td>\n",
       "      <td>18-25</td>\n",
       "      <td>Italian</td>\n",
       "      <td>Spicy Affair</td>\n",
       "      <td>Yes</td>\n",
       "      <td>No</td>\n",
       "      <td>NaN</td>\n",
       "    </tr>\n",
       "  </tbody>\n",
       "</table>\n",
       "<p>1000 rows × 7 columns</p>\n",
       "</div>"
      ],
      "text/plain": [
       "    User_ID Age_Group Preferred_Cuisine Last_Visited_Restaurant  \\\n",
       "0      A001     36-45           Chinese             Ocean Bites   \n",
       "1      A002     36-45           Italian            Elite Eatery   \n",
       "2      A003     36-45           Mexican            Spicy Affair   \n",
       "3      A004     46-55      North Indian            Curry Corner   \n",
       "4      A005     36-45      North Indian            Pasta Palace   \n",
       "..      ...       ...               ...                     ...   \n",
       "995    A996     18-25           Italian            Curry Corner   \n",
       "996    A997     46-55      North Indian             Fishy Feast   \n",
       "997    A998     46-55       Continental             Fishy Feast   \n",
       "998    A999     46-55      North Indian            Bella Italia   \n",
       "999   A1000     18-25           Italian            Spicy Affair   \n",
       "\n",
       "    Recommendation_Clicked Reservation_Made  Visit_Rating  \n",
       "0                      Yes              Yes           3.4  \n",
       "1                       No               No           NaN  \n",
       "2                      Yes               No           NaN  \n",
       "3                      Yes               No           NaN  \n",
       "4                      Yes               No           NaN  \n",
       "..                     ...              ...           ...  \n",
       "995                    Yes              Yes           4.1  \n",
       "996                     No               No           NaN  \n",
       "997                    Yes              Yes           3.2  \n",
       "998                     No               No           NaN  \n",
       "999                    Yes               No           NaN  \n",
       "\n",
       "[1000 rows x 7 columns]"
      ]
     },
     "execution_count": 3,
     "metadata": {},
     "output_type": "execute_result"
    }
   ],
   "source": [
    "df"
   ]
  },
  {
   "cell_type": "code",
   "execution_count": 4,
   "metadata": {},
   "outputs": [
    {
     "data": {
      "text/plain": [
       "7000"
      ]
     },
     "execution_count": 4,
     "metadata": {},
     "output_type": "execute_result"
    }
   ],
   "source": [
    "df.size"
   ]
  },
  {
   "cell_type": "code",
   "execution_count": 5,
   "metadata": {},
   "outputs": [
    {
     "data": {
      "text/plain": [
       "(1000, 7)"
      ]
     },
     "execution_count": 5,
     "metadata": {},
     "output_type": "execute_result"
    }
   ],
   "source": [
    "df.shape"
   ]
  },
  {
   "cell_type": "code",
   "execution_count": 6,
   "metadata": {},
   "outputs": [
    {
     "data": {
      "text/plain": [
       "Index(['User_ID', 'Age_Group', 'Preferred_Cuisine', 'Last_Visited_Restaurant',\n",
       "       'Recommendation_Clicked', 'Reservation_Made', 'Visit_Rating'],\n",
       "      dtype='object')"
      ]
     },
     "execution_count": 6,
     "metadata": {},
     "output_type": "execute_result"
    }
   ],
   "source": [
    "df.columns"
   ]
  },
  {
   "cell_type": "code",
   "execution_count": 7,
   "metadata": {},
   "outputs": [
    {
     "data": {
      "text/plain": [
       "User_ID                      0\n",
       "Age_Group                    0\n",
       "Preferred_Cuisine            0\n",
       "Last_Visited_Restaurant      0\n",
       "Recommendation_Clicked       0\n",
       "Reservation_Made             0\n",
       "Visit_Rating               663\n",
       "dtype: int64"
      ]
     },
     "execution_count": 7,
     "metadata": {},
     "output_type": "execute_result"
    }
   ],
   "source": [
    "df.isnull().sum()"
   ]
  },
  {
   "cell_type": "code",
   "execution_count": 8,
   "metadata": {},
   "outputs": [],
   "source": [
    "df['Visit_Rating']=df['Visit_Rating'].fillna(0)"
   ]
  },
  {
   "cell_type": "code",
   "execution_count": 10,
   "metadata": {},
   "outputs": [
    {
     "data": {
      "text/plain": [
       "User_ID                    0\n",
       "Age_Group                  0\n",
       "Preferred_Cuisine          0\n",
       "Last_Visited_Restaurant    0\n",
       "Recommendation_Clicked     0\n",
       "Reservation_Made           0\n",
       "Visit_Rating               0\n",
       "dtype: int64"
      ]
     },
     "execution_count": 10,
     "metadata": {},
     "output_type": "execute_result"
    }
   ],
   "source": [
    "df.isnull().sum()"
   ]
  },
  {
   "cell_type": "markdown",
   "metadata": {},
   "source": [
    "# Question1"
   ]
  },
  {
   "cell_type": "markdown",
   "metadata": {},
   "source": [
    "### Determine the overall success rate of the recommendation engine in terms of user clicks and reservations made.\n",
    "Overall Success Rate = (Users who clicked and Made Reservations / Total Users)"
   ]
  },
  {
   "cell_type": "code",
   "execution_count": 24,
   "metadata": {},
   "outputs": [
    {
     "name": "stdout",
     "output_type": "stream",
     "text": [
      "Total_Users:  1000\n",
      "Users_who_Clicked:  494\n",
      "Reservation_made:  337\n",
      "Users Clicked Rate:  49.4 %\n",
      "Overall Success Rate:  33.7 %\n"
     ]
    }
   ],
   "source": [
    "Total_Users = df['User_ID'].count()\n",
    "Users_who_Clicked = df[df['Recommendation_Clicked']=='Yes']['User_ID'].count()\n",
    "Reservation_made = df[df['Reservation_Made']=='Yes']['User_ID'].count()\n",
    "print('Total_Users: ',Total_Users)\n",
    "print('Users_who_Clicked: ',Users_who_Clicked)\n",
    "print('Reservation_made: ',Reservation_made)\n",
    "print('Users Clicked Rate: ', (Users_who_Clicked/Total_Users)*100, '%')\n",
    "print('Overall Success Rate: ', (Reservation_made/Total_Users)*100, '%')"
   ]
  },
  {
   "cell_type": "markdown",
   "metadata": {},
   "source": [
    "**This means that about 33.67% of the total users who clicked on recommendations went ahead and made reservations based on those recommendations.**"
   ]
  },
  {
   "cell_type": "markdown",
   "metadata": {},
   "source": [
    "# Question2"
   ]
  },
  {
   "cell_type": "markdown",
   "metadata": {},
   "source": [
    "### Analyze the effectiveness of recommendations based on the `Age_Group` and `Preferred_Cuisine`. Identify any patterns or segments where recommendations are particularly successful or lacking."
   ]
  },
  {
   "cell_type": "markdown",
   "metadata": {},
   "source": [
    "##### Age_group"
   ]
  },
  {
   "cell_type": "code",
   "execution_count": 89,
   "metadata": {
    "scrolled": true
   },
   "outputs": [
    {
     "data": {
      "text/html": [
       "<div>\n",
       "<style scoped>\n",
       "    .dataframe tbody tr th:only-of-type {\n",
       "        vertical-align: middle;\n",
       "    }\n",
       "\n",
       "    .dataframe tbody tr th {\n",
       "        vertical-align: top;\n",
       "    }\n",
       "\n",
       "    .dataframe thead th {\n",
       "        text-align: right;\n",
       "    }\n",
       "</style>\n",
       "<table border=\"1\" class=\"dataframe\">\n",
       "  <thead>\n",
       "    <tr style=\"text-align: right;\">\n",
       "      <th></th>\n",
       "      <th>Age_Group</th>\n",
       "      <th>Total_users</th>\n",
       "      <th>Users_who_Clicked</th>\n",
       "      <th>Reservation_made</th>\n",
       "      <th>Users_Clicked_Rate</th>\n",
       "      <th>Effectiveness_of_recommendations</th>\n",
       "      <th>Visit_ratings</th>\n",
       "    </tr>\n",
       "  </thead>\n",
       "  <tbody>\n",
       "    <tr>\n",
       "      <th>0</th>\n",
       "      <td>18-25</td>\n",
       "      <td>191</td>\n",
       "      <td>90</td>\n",
       "      <td>63</td>\n",
       "      <td>47.12</td>\n",
       "      <td>32.98</td>\n",
       "      <td>4.1</td>\n",
       "    </tr>\n",
       "    <tr>\n",
       "      <th>1</th>\n",
       "      <td>26-35</td>\n",
       "      <td>196</td>\n",
       "      <td>101</td>\n",
       "      <td>63</td>\n",
       "      <td>51.53</td>\n",
       "      <td>32.14</td>\n",
       "      <td>4.0</td>\n",
       "    </tr>\n",
       "    <tr>\n",
       "      <th>2</th>\n",
       "      <td>36-45</td>\n",
       "      <td>196</td>\n",
       "      <td>93</td>\n",
       "      <td>66</td>\n",
       "      <td>47.45</td>\n",
       "      <td>33.67</td>\n",
       "      <td>3.9</td>\n",
       "    </tr>\n",
       "    <tr>\n",
       "      <th>3</th>\n",
       "      <td>46-55</td>\n",
       "      <td>195</td>\n",
       "      <td>103</td>\n",
       "      <td>67</td>\n",
       "      <td>52.82</td>\n",
       "      <td>34.36</td>\n",
       "      <td>4.0</td>\n",
       "    </tr>\n",
       "    <tr>\n",
       "      <th>4</th>\n",
       "      <td>55+</td>\n",
       "      <td>222</td>\n",
       "      <td>107</td>\n",
       "      <td>78</td>\n",
       "      <td>48.20</td>\n",
       "      <td>35.14</td>\n",
       "      <td>3.9</td>\n",
       "    </tr>\n",
       "  </tbody>\n",
       "</table>\n",
       "</div>"
      ],
      "text/plain": [
       "  Age_Group  Total_users  Users_who_Clicked  Reservation_made  \\\n",
       "0     18-25          191                 90                63   \n",
       "1     26-35          196                101                63   \n",
       "2     36-45          196                 93                66   \n",
       "3     46-55          195                103                67   \n",
       "4       55+          222                107                78   \n",
       "\n",
       "   Users_Clicked_Rate  Effectiveness_of_recommendations  Visit_ratings  \n",
       "0               47.12                             32.98            4.1  \n",
       "1               51.53                             32.14            4.0  \n",
       "2               47.45                             33.67            3.9  \n",
       "3               52.82                             34.36            4.0  \n",
       "4               48.20                             35.14            3.9  "
      ]
     },
     "execution_count": 89,
     "metadata": {},
     "output_type": "execute_result"
    }
   ],
   "source": [
    "# Group by 'Age_Group' and aggregate the data\n",
    "age_group_stats = df.groupby('Age_Group').agg(\n",
    "    Total_users=('User_ID', 'count'),\n",
    "    Users_who_Clicked=('Recommendation_Clicked', lambda x: (x == 'Yes').sum()),\n",
    "    Reservation_made=('Reservation_Made', lambda x: (x == 'Yes').sum()),\n",
    "    Users_Clicked_Rate=('Recommendation_Clicked', lambda x: ((x == 'Yes').sum() / len(x)) * 100),\n",
    "    Effectiveness_of_recommendations=('Reservation_Made', lambda x: ((x == 'Yes').sum() / len(x)) * 100),\n",
    "    Visit_ratings=('Visit_Rating', lambda x: x.sum() )\n",
    ")\n",
    "\n",
    "age_group_stats['Visit_ratings'] = age_group_stats['Visit_ratings'] / age_group_stats['Reservation_made']\n",
    "\n",
    "# Format the percentages to two decimal places\n",
    "age_group_stats['Users_Clicked_Rate'] = age_group_stats['Users_Clicked_Rate'].round(2)\n",
    "age_group_stats['Effectiveness_of_recommendations'] = age_group_stats['Effectiveness_of_recommendations'].round(2)\n",
    "age_group_stats['Visit_ratings'] = age_group_stats['Visit_ratings'].round(1)\n",
    "\n",
    "# Print the result\n",
    "age_group_stats.reset_index()"
   ]
  },
  {
   "cell_type": "code",
   "execution_count": 133,
   "metadata": {},
   "outputs": [
    {
     "data": {
      "image/png": "[encoded data removed]",
      "text/plain": [
       "<Figure size 720x432 with 1 Axes>"
      ]
     },
     "metadata": {
      "needs_background": "light"
     },
     "output_type": "display_data"
    }
   ],
   "source": [
    "plt.figure(figsize=(10,6))\n",
    "\n",
    "ax = age_group_stats['Effectiveness_of_recommendations'].plot(kind='bar', color='green')\n",
    "\n",
    "for p in ax.patches:\n",
    "    ax.annotate(str(p.get_height()) + '%', (p.get_x() + p.get_width() / 2., p.get_height()), ha='center', va='bottom', fontsize=9, color='black', xytext=(0, 5), textcoords='offset points')\n",
    "\n",
    "plt.title('Effectiveness of Recommendations by Age Group')\n",
    "plt.xlabel('Age Group')\n",
    "plt.ylabel('Effectiveness of Recommendations (%)')\n",
    "plt.xticks(rotation=45)\n",
    "plt.ylim(0, 50)  # Set y-axis limit from 0 to 50\n",
    "plt.grid(axis='y', linestyle='--', alpha=0.7)\n",
    "plt.tight_layout()\n",
    "plt.show()"
   ]
  },
  {
   "cell_type": "markdown",
   "metadata": {},
   "source": [
    "* Based on this analysis, it seems that the effectiveness of recommendations slightly increases with age. \n",
    "* Users aged 55+ have the highest effectiveness rate, while users aged 26-35 and 18-25 have slightly lower recommendation effectiveness but still have positive visit ratings.\n",
    "* However, users across age groups generally have positive visit ratings, indicating overall satisfaction with the service."
   ]
  },
  {
   "cell_type": "markdown",
   "metadata": {},
   "source": [
    "##### preferred_cuisine"
   ]
  },
  {
   "cell_type": "code",
   "execution_count": 129,
   "metadata": {},
   "outputs": [
    {
     "data": {
      "text/html": [
       "<div>\n",
       "<style scoped>\n",
       "    .dataframe tbody tr th:only-of-type {\n",
       "        vertical-align: middle;\n",
       "    }\n",
       "\n",
       "    .dataframe tbody tr th {\n",
       "        vertical-align: top;\n",
       "    }\n",
       "\n",
       "    .dataframe thead th {\n",
       "        text-align: right;\n",
       "    }\n",
       "</style>\n",
       "<table border=\"1\" class=\"dataframe\">\n",
       "  <thead>\n",
       "    <tr style=\"text-align: right;\">\n",
       "      <th></th>\n",
       "      <th>Preferred_Cuisine</th>\n",
       "      <th>Total_Users</th>\n",
       "      <th>Users_who_Clicked</th>\n",
       "      <th>Reservation_made</th>\n",
       "      <th>Users_Clicked_Rate</th>\n",
       "      <th>Effectiveness_of_recommendations</th>\n",
       "      <th>Visit_Ratings</th>\n",
       "    </tr>\n",
       "  </thead>\n",
       "  <tbody>\n",
       "    <tr>\n",
       "      <th>0</th>\n",
       "      <td>Chinese</td>\n",
       "      <td>147</td>\n",
       "      <td>70</td>\n",
       "      <td>48</td>\n",
       "      <td>47.62</td>\n",
       "      <td>32.65</td>\n",
       "      <td>4.1</td>\n",
       "    </tr>\n",
       "    <tr>\n",
       "      <th>1</th>\n",
       "      <td>Continental</td>\n",
       "      <td>146</td>\n",
       "      <td>75</td>\n",
       "      <td>55</td>\n",
       "      <td>51.37</td>\n",
       "      <td>37.67</td>\n",
       "      <td>4.0</td>\n",
       "    </tr>\n",
       "    <tr>\n",
       "      <th>2</th>\n",
       "      <td>Italian</td>\n",
       "      <td>132</td>\n",
       "      <td>60</td>\n",
       "      <td>40</td>\n",
       "      <td>45.45</td>\n",
       "      <td>30.30</td>\n",
       "      <td>3.8</td>\n",
       "    </tr>\n",
       "    <tr>\n",
       "      <th>3</th>\n",
       "      <td>Mexican</td>\n",
       "      <td>146</td>\n",
       "      <td>71</td>\n",
       "      <td>49</td>\n",
       "      <td>48.63</td>\n",
       "      <td>33.56</td>\n",
       "      <td>3.8</td>\n",
       "    </tr>\n",
       "    <tr>\n",
       "      <th>4</th>\n",
       "      <td>North Indian</td>\n",
       "      <td>144</td>\n",
       "      <td>65</td>\n",
       "      <td>41</td>\n",
       "      <td>45.14</td>\n",
       "      <td>28.47</td>\n",
       "      <td>4.0</td>\n",
       "    </tr>\n",
       "    <tr>\n",
       "      <th>5</th>\n",
       "      <td>Seafood</td>\n",
       "      <td>144</td>\n",
       "      <td>76</td>\n",
       "      <td>50</td>\n",
       "      <td>52.78</td>\n",
       "      <td>34.72</td>\n",
       "      <td>4.0</td>\n",
       "    </tr>\n",
       "    <tr>\n",
       "      <th>6</th>\n",
       "      <td>Vegan</td>\n",
       "      <td>141</td>\n",
       "      <td>77</td>\n",
       "      <td>54</td>\n",
       "      <td>54.61</td>\n",
       "      <td>38.30</td>\n",
       "      <td>4.0</td>\n",
       "    </tr>\n",
       "  </tbody>\n",
       "</table>\n",
       "</div>"
      ],
      "text/plain": [
       "  Preferred_Cuisine  Total_Users  Users_who_Clicked  Reservation_made  \\\n",
       "0           Chinese          147                 70                48   \n",
       "1       Continental          146                 75                55   \n",
       "2           Italian          132                 60                40   \n",
       "3           Mexican          146                 71                49   \n",
       "4      North Indian          144                 65                41   \n",
       "5           Seafood          144                 76                50   \n",
       "6             Vegan          141                 77                54   \n",
       "\n",
       "   Users_Clicked_Rate  Effectiveness_of_recommendations  Visit_Ratings  \n",
       "0               47.62                             32.65            4.1  \n",
       "1               51.37                             37.67            4.0  \n",
       "2               45.45                             30.30            3.8  \n",
       "3               48.63                             33.56            3.8  \n",
       "4               45.14                             28.47            4.0  \n",
       "5               52.78                             34.72            4.0  \n",
       "6               54.61                             38.30            4.0  "
      ]
     },
     "execution_count": 129,
     "metadata": {},
     "output_type": "execute_result"
    }
   ],
   "source": [
    "preferred_cuisine = df.groupby('Preferred_Cuisine').agg(\n",
    "    Total_Users = ('User_ID','count'),\n",
    "    Users_who_Clicked=('Recommendation_Clicked', lambda x: (x =='Yes').sum()),\n",
    "    Reservation_made=('Reservation_Made', lambda x:(x=='Yes').sum()),\n",
    "    Users_Clicked_Rate = ('Recommendation_Clicked', lambda x:((x=='Yes').sum()/len(x))*100),\n",
    "    Effectiveness_of_recommendations = ('Reservation_Made', lambda x:((x=='Yes').sum()/len(x))*100),\n",
    "    Visit_Ratings=('Visit_Rating','sum')\n",
    "    )\n",
    "\n",
    "preferred_cuisine['Visit_Ratings']=preferred_cuisine['Visit_Ratings']/preferred_cuisine['Reservation_made']\n",
    "\n",
    "preferred_cuisine['Users_Clicked_Rate'] = preferred_cuisine['Users_Clicked_Rate'].round(2)\n",
    "preferred_cuisine['Effectiveness_of_recommendations'] = preferred_cuisine['Effectiveness_of_recommendations'].round(2)\n",
    "preferred_cuisine['Visit_Ratings'] = preferred_cuisine['Visit_Ratings'].round(1)\n",
    "\n",
    "preferred_cuisine.reset_index()"
   ]
  },
  {
   "cell_type": "code",
   "execution_count": 132,
   "metadata": {},
   "outputs": [
    {
     "data": {
      "image/png": "[encoded data removed]",
      "text/plain": [
       "<Figure size 720x432 with 1 Axes>"
      ]
     },
     "metadata": {
      "needs_background": "light"
     },
     "output_type": "display_data"
    }
   ],
   "source": [
    "plt.figure(figsize=(10,6))\n",
    "ax = preferred_cuisine['Effectiveness_of_recommendations'].plot(kind='bar', color='skyblue')\n",
    "\n",
    "for p in ax.patches:\n",
    "    ax.annotate(str(p.get_height()) + '%', (p.get_x() + p.get_width() / 2., p.get_height()), ha='center', va='bottom', fontsize=9, color='black', xytext=(0, 5), textcoords='offset points')\n",
    "\n",
    "plt.title('Effectiveness of Recommendations by preferred_cuisine')\n",
    "plt.xlabel('Preferred Cuisine')\n",
    "plt.ylabel('Effectiveness of Recommendations (%)')\n",
    "plt.xticks(rotation=45)\n",
    "plt.ylim(0, 50)  \n",
    "plt.grid(axis='y', linestyle='--', alpha=0.7)\n",
    "plt.tight_layout()\n",
    "plt.show()"
   ]
  },
  {
   "cell_type": "markdown",
   "metadata": {},
   "source": [
    "* Based on this analysis, the effectiveness of recommendations varies by preferred cuisine. \n",
    "* Recommendations for Vegan and Continental cuisines have the highest effectiveness rates, while recommendations for North Indian cuisine have a relatively lower effectiveness rate.\n",
    "* However, users generally have positive visit ratings across different preferred cuisines."
   ]
  },
  {
   "cell_type": "markdown",
   "metadata": {},
   "source": [
    "# Question3"
   ]
  },
  {
   "cell_type": "markdown",
   "metadata": {},
   "source": [
    "### Based on the `Visit_Rating`, evaluate the satisfaction of users with the recommended restaurants."
   ]
  },
  {
   "cell_type": "markdown",
   "metadata": {},
   "source": [
    "To evaluate user satisfaction, we can calculate the average visit rating for users who clicked on recommendations"
   ]
  },
  {
   "cell_type": "code",
   "execution_count": 154,
   "metadata": {},
   "outputs": [],
   "source": [
    "Recom= df[df['Recommendation_Clicked']=='Yes']['Visit_Rating'].sum()\n",
    "vr=df[df['Visit_Rating']!=0]['User_ID'].count()\n",
    "Average_Visit_Rating_for_Users_who_Clicked = Recom/vr"
   ]
  },
  {
   "cell_type": "code",
   "execution_count": 158,
   "metadata": {},
   "outputs": [
    {
     "data": {
      "text/plain": [
       "3.96"
      ]
     },
     "execution_count": 158,
     "metadata": {},
     "output_type": "execute_result"
    }
   ],
   "source": [
    "Average_Visit_Rating_for_Users_who_Clicked.round(2)"
   ]
  },
  {
   "cell_type": "markdown",
   "metadata": {},
   "source": [
    "The overall satisfaction level among users who clicked on recommendations, with an average rating of around `3.94`."
   ]
  },
  {
   "cell_type": "code",
   "execution_count": 203,
   "metadata": {},
   "outputs": [
    {
     "data": {
      "text/html": [
       "<div>\n",
       "<style scoped>\n",
       "    .dataframe tbody tr th:only-of-type {\n",
       "        vertical-align: middle;\n",
       "    }\n",
       "\n",
       "    .dataframe tbody tr th {\n",
       "        vertical-align: top;\n",
       "    }\n",
       "\n",
       "    .dataframe thead th {\n",
       "        text-align: right;\n",
       "    }\n",
       "</style>\n",
       "<table border=\"1\" class=\"dataframe\">\n",
       "  <thead>\n",
       "    <tr style=\"text-align: right;\">\n",
       "      <th></th>\n",
       "      <th>Age_Group</th>\n",
       "      <th>Visit_ratings</th>\n",
       "    </tr>\n",
       "  </thead>\n",
       "  <tbody>\n",
       "    <tr>\n",
       "      <th>0</th>\n",
       "      <td>18-25</td>\n",
       "      <td>4.1</td>\n",
       "    </tr>\n",
       "    <tr>\n",
       "      <th>1</th>\n",
       "      <td>26-35</td>\n",
       "      <td>4.0</td>\n",
       "    </tr>\n",
       "    <tr>\n",
       "      <th>2</th>\n",
       "      <td>36-45</td>\n",
       "      <td>3.9</td>\n",
       "    </tr>\n",
       "    <tr>\n",
       "      <th>3</th>\n",
       "      <td>46-55</td>\n",
       "      <td>4.0</td>\n",
       "    </tr>\n",
       "    <tr>\n",
       "      <th>4</th>\n",
       "      <td>55+</td>\n",
       "      <td>3.9</td>\n",
       "    </tr>\n",
       "  </tbody>\n",
       "</table>\n",
       "</div>"
      ],
      "text/plain": [
       "  Age_Group  Visit_ratings\n",
       "0     18-25            4.1\n",
       "1     26-35            4.0\n",
       "2     36-45            3.9\n",
       "3     46-55            4.0\n",
       "4       55+            3.9"
      ]
     },
     "execution_count": 203,
     "metadata": {},
     "output_type": "execute_result"
    }
   ],
   "source": [
    "d = age_group_stats.iloc[:, [0, -1]]\n",
    "d"
   ]
  },
  {
   "cell_type": "code",
   "execution_count": 211,
   "metadata": {},
   "outputs": [
    {
     "data": {
      "image/png": "[encoded data removed]",
      "text/plain": [
       "<Figure size 720x432 with 1 Axes>"
      ]
     },
     "metadata": {
      "needs_background": "light"
     },
     "output_type": "display_data"
    }
   ],
   "source": [
    "plt.figure(figsize=(10, 6))\n",
    "bars = plt.bar(d['Age_Group'], d['Visit_ratings'], color='violet')\n",
    "\n",
    "for bar in bars:\n",
    "    yval = bar.get_height()\n",
    "    plt.text(bar.get_x() + bar.get_width() / 2, yval, round(yval, 1), va='bottom', ha='center')\n",
    "\n",
    "plt.title('Visit Ratings by Age Group')\n",
    "plt.xlabel('Age Group')\n",
    "plt.ylabel('Visit Ratings')\n",
    "plt.ylim(0, 5.0)  # Set y-axis limits if needed\n",
    "plt.grid(axis='y', linestyle='--', alpha=0.7)\n",
    "plt.show()"
   ]
  },
  {
   "cell_type": "code",
   "execution_count": 206,
   "metadata": {},
   "outputs": [
    {
     "data": {
      "text/html": [
       "<div>\n",
       "<style scoped>\n",
       "    .dataframe tbody tr th:only-of-type {\n",
       "        vertical-align: middle;\n",
       "    }\n",
       "\n",
       "    .dataframe tbody tr th {\n",
       "        vertical-align: top;\n",
       "    }\n",
       "\n",
       "    .dataframe thead th {\n",
       "        text-align: right;\n",
       "    }\n",
       "</style>\n",
       "<table border=\"1\" class=\"dataframe\">\n",
       "  <thead>\n",
       "    <tr style=\"text-align: right;\">\n",
       "      <th></th>\n",
       "      <th>Preferred_Cuisine</th>\n",
       "      <th>Visit_Ratings</th>\n",
       "    </tr>\n",
       "  </thead>\n",
       "  <tbody>\n",
       "    <tr>\n",
       "      <th>0</th>\n",
       "      <td>Chinese</td>\n",
       "      <td>4.1</td>\n",
       "    </tr>\n",
       "    <tr>\n",
       "      <th>1</th>\n",
       "      <td>Continental</td>\n",
       "      <td>4.0</td>\n",
       "    </tr>\n",
       "    <tr>\n",
       "      <th>2</th>\n",
       "      <td>Italian</td>\n",
       "      <td>3.8</td>\n",
       "    </tr>\n",
       "    <tr>\n",
       "      <th>3</th>\n",
       "      <td>Mexican</td>\n",
       "      <td>3.8</td>\n",
       "    </tr>\n",
       "    <tr>\n",
       "      <th>4</th>\n",
       "      <td>North Indian</td>\n",
       "      <td>4.0</td>\n",
       "    </tr>\n",
       "    <tr>\n",
       "      <th>5</th>\n",
       "      <td>Seafood</td>\n",
       "      <td>4.0</td>\n",
       "    </tr>\n",
       "    <tr>\n",
       "      <th>6</th>\n",
       "      <td>Vegan</td>\n",
       "      <td>4.0</td>\n",
       "    </tr>\n",
       "  </tbody>\n",
       "</table>\n",
       "</div>"
      ],
      "text/plain": [
       "  Preferred_Cuisine  Visit_Ratings\n",
       "0           Chinese            4.1\n",
       "1       Continental            4.0\n",
       "2           Italian            3.8\n",
       "3           Mexican            3.8\n",
       "4      North Indian            4.0\n",
       "5           Seafood            4.0\n",
       "6             Vegan            4.0"
      ]
     },
     "execution_count": 206,
     "metadata": {},
     "output_type": "execute_result"
    }
   ],
   "source": [
    "pc= preferred_cuisine.reset_index().iloc[:,[0,-1]]\n",
    "pc"
   ]
  },
  {
   "cell_type": "code",
   "execution_count": 212,
   "metadata": {},
   "outputs": [
    {
     "data": {
      "image/png": "[encoded data removed]",
      "text/plain": [
       "<Figure size 720x432 with 1 Axes>"
      ]
     },
     "metadata": {
      "needs_background": "light"
     },
     "output_type": "display_data"
    }
   ],
   "source": [
    "plt.figure(figsize=(10, 6))\n",
    "bars = plt.bar(pc['Preferred_Cuisine'], pc['Visit_Ratings'], color='pink')\n",
    "\n",
    "for bar in bars:\n",
    "    yval = bar.get_height()\n",
    "    plt.text(bar.get_x() + bar.get_width() / 2, yval, round(yval, 1), va='bottom', ha='center')\n",
    "\n",
    "plt.title('Visit Ratings of Preferred Cuisine')\n",
    "plt.xlabel('Preferred Cuisine')\n",
    "plt.ylabel('Visit Ratings')\n",
    "plt.ylim(0, 5.0)  # Set y-axis limits if needed\n",
    "plt.grid(axis='y', linestyle='--', alpha=0.7)\n",
    "plt.show()"
   ]
  },
  {
   "cell_type": "markdown",
   "metadata": {},
   "source": [
    "# Question4"
   ]
  },
  {
   "cell_type": "markdown",
   "metadata": {},
   "source": [
    "### Analyze the data to deduce if the name or type of the `Last_Visited_Restaurant` has any impact on users trusting the next recommendation. For instance, do users who last visited a seafood restaurant trust a seafood recommendation more?"
   ]
  },
  {
   "cell_type": "code",
   "execution_count": 220,
   "metadata": {},
   "outputs": [
    {
     "data": {
      "text/html": [
       "<div>\n",
       "<style scoped>\n",
       "    .dataframe tbody tr th:only-of-type {\n",
       "        vertical-align: middle;\n",
       "    }\n",
       "\n",
       "    .dataframe tbody tr th {\n",
       "        vertical-align: top;\n",
       "    }\n",
       "\n",
       "    .dataframe thead th {\n",
       "        text-align: right;\n",
       "    }\n",
       "</style>\n",
       "<table border=\"1\" class=\"dataframe\">\n",
       "  <thead>\n",
       "    <tr style=\"text-align: right;\">\n",
       "      <th>Preferred_Cuisine</th>\n",
       "      <th>Last_Visited_Restaurant</th>\n",
       "      <th>Chinese</th>\n",
       "      <th>Continental</th>\n",
       "      <th>Italian</th>\n",
       "      <th>Mexican</th>\n",
       "      <th>North Indian</th>\n",
       "      <th>Seafood</th>\n",
       "      <th>Vegan</th>\n",
       "    </tr>\n",
       "  </thead>\n",
       "  <tbody>\n",
       "    <tr>\n",
       "      <th>0</th>\n",
       "      <td>Bella Italia</td>\n",
       "      <td>31.25%</td>\n",
       "      <td>50.00%</td>\n",
       "      <td>53.85%</td>\n",
       "      <td>33.33%</td>\n",
       "      <td>20.00%</td>\n",
       "      <td>25.00%</td>\n",
       "      <td>40.00%</td>\n",
       "    </tr>\n",
       "    <tr>\n",
       "      <th>1</th>\n",
       "      <td>Curry Corner</td>\n",
       "      <td>27.78%</td>\n",
       "      <td>57.14%</td>\n",
       "      <td>40.91%</td>\n",
       "      <td>30.77%</td>\n",
       "      <td>16.67%</td>\n",
       "      <td>44.44%</td>\n",
       "      <td>9.09%</td>\n",
       "    </tr>\n",
       "    <tr>\n",
       "      <th>2</th>\n",
       "      <td>Dragon Bowl</td>\n",
       "      <td>27.27%</td>\n",
       "      <td>20.00%</td>\n",
       "      <td>30.77%</td>\n",
       "      <td>41.67%</td>\n",
       "      <td>25.00%</td>\n",
       "      <td>43.75%</td>\n",
       "      <td>50.00%</td>\n",
       "    </tr>\n",
       "    <tr>\n",
       "      <th>3</th>\n",
       "      <td>Elite Eatery</td>\n",
       "      <td>0.00%</td>\n",
       "      <td>33.33%</td>\n",
       "      <td>25.00%</td>\n",
       "      <td>12.50%</td>\n",
       "      <td>28.57%</td>\n",
       "      <td>36.36%</td>\n",
       "      <td>47.06%</td>\n",
       "    </tr>\n",
       "    <tr>\n",
       "      <th>4</th>\n",
       "      <td>Fishy Feast</td>\n",
       "      <td>30.77%</td>\n",
       "      <td>27.27%</td>\n",
       "      <td>28.57%</td>\n",
       "      <td>36.36%</td>\n",
       "      <td>22.22%</td>\n",
       "      <td>40.00%</td>\n",
       "      <td>23.08%</td>\n",
       "    </tr>\n",
       "    <tr>\n",
       "      <th>5</th>\n",
       "      <td>Green Gardens</td>\n",
       "      <td>35.00%</td>\n",
       "      <td>50.00%</td>\n",
       "      <td>35.29%</td>\n",
       "      <td>36.36%</td>\n",
       "      <td>38.89%</td>\n",
       "      <td>35.71%</td>\n",
       "      <td>50.00%</td>\n",
       "    </tr>\n",
       "    <tr>\n",
       "      <th>6</th>\n",
       "      <td>Ocean Bites</td>\n",
       "      <td>35.71%</td>\n",
       "      <td>18.75%</td>\n",
       "      <td>20.00%</td>\n",
       "      <td>54.55%</td>\n",
       "      <td>42.86%</td>\n",
       "      <td>41.67%</td>\n",
       "      <td>40.91%</td>\n",
       "    </tr>\n",
       "    <tr>\n",
       "      <th>7</th>\n",
       "      <td>Pasta Palace</td>\n",
       "      <td>42.86%</td>\n",
       "      <td>50.00%</td>\n",
       "      <td>10.00%</td>\n",
       "      <td>33.33%</td>\n",
       "      <td>13.33%</td>\n",
       "      <td>11.76%</td>\n",
       "      <td>45.45%</td>\n",
       "    </tr>\n",
       "    <tr>\n",
       "      <th>8</th>\n",
       "      <td>Spicy Affair</td>\n",
       "      <td>33.33%</td>\n",
       "      <td>31.25%</td>\n",
       "      <td>9.09%</td>\n",
       "      <td>41.67%</td>\n",
       "      <td>40.00%</td>\n",
       "      <td>50.00%</td>\n",
       "      <td>30.77%</td>\n",
       "    </tr>\n",
       "    <tr>\n",
       "      <th>9</th>\n",
       "      <td>Taco Town</td>\n",
       "      <td>50.00%</td>\n",
       "      <td>36.36%</td>\n",
       "      <td>30.00%</td>\n",
       "      <td>23.08%</td>\n",
       "      <td>33.33%</td>\n",
       "      <td>18.18%</td>\n",
       "      <td>38.46%</td>\n",
       "    </tr>\n",
       "  </tbody>\n",
       "</table>\n",
       "</div>"
      ],
      "text/plain": [
       "Preferred_Cuisine Last_Visited_Restaurant Chinese Continental Italian Mexican  \\\n",
       "0                            Bella Italia  31.25%      50.00%  53.85%  33.33%   \n",
       "1                            Curry Corner  27.78%      57.14%  40.91%  30.77%   \n",
       "2                             Dragon Bowl  27.27%      20.00%  30.77%  41.67%   \n",
       "3                            Elite Eatery   0.00%      33.33%  25.00%  12.50%   \n",
       "4                             Fishy Feast  30.77%      27.27%  28.57%  36.36%   \n",
       "5                           Green Gardens  35.00%      50.00%  35.29%  36.36%   \n",
       "6                             Ocean Bites  35.71%      18.75%  20.00%  54.55%   \n",
       "7                            Pasta Palace  42.86%      50.00%  10.00%  33.33%   \n",
       "8                            Spicy Affair  33.33%      31.25%   9.09%  41.67%   \n",
       "9                               Taco Town  50.00%      36.36%  30.00%  23.08%   \n",
       "\n",
       "Preferred_Cuisine North Indian Seafood   Vegan  \n",
       "0                       20.00%  25.00%  40.00%  \n",
       "1                       16.67%  44.44%   9.09%  \n",
       "2                       25.00%  43.75%  50.00%  \n",
       "3                       28.57%  36.36%  47.06%  \n",
       "4                       22.22%  40.00%  23.08%  \n",
       "5                       38.89%  35.71%  50.00%  \n",
       "6                       42.86%  41.67%  40.91%  \n",
       "7                       13.33%  11.76%  45.45%  \n",
       "8                       40.00%  50.00%  30.77%  \n",
       "9                       33.33%  18.18%  38.46%  "
      ]
     },
     "execution_count": 220,
     "metadata": {},
     "output_type": "execute_result"
    }
   ],
   "source": [
    "pivot_table = pd.pivot_table(df, index='Last_Visited_Restaurant', columns='Preferred_Cuisine', \n",
    "                             values='Reservation_Made', aggfunc=lambda x: (x == 'Yes').mean() * 100)\n",
    "\n",
    "\n",
    "pivot_table = pivot_table.round(2).applymap(lambda x: f\"{x:.2f}%\")\n",
    "\n",
    "\n",
    "pivot_table.reset_index()"
   ]
  },
  {
   "cell_type": "markdown",
   "metadata": {},
   "source": [
    "* **Users who last visited a Seafood restaurants :**\n",
    "    - Fishy Feast\tSeafood recommendations: Approximately 40.00% of the time\n",
    "    - Ocean Bites\tSeafood recommendations: Approximately 41.00% of the time but higher for Mexican Cuisine<br>\n",
    "Users who last visited a Seafood restaurant do show a preference for Seafood recommendations, but the preference is not overwhelmingly high (Not True for all Restaurant)<br>\n",
    "<br>\t\n",
    "* **Users who last visited a Chinese restaurant :**\t\n",
    "    - Dragon Bowl\tChinese recommendations: Approximately 27.27%\n",
    "    - Other cuisine recommendations: Varied, with the highest being Seafood and Vegan recommendations (43.75% and 50% resp)<br>\n",
    "Users who last visited a Chinese restaurant do not strongly favor Chinese recommendations, and they show a relatively higher trust in other cuisine recommendations<br>\n",
    "<br>\n",
    "* **Users who last visited an Italian restaurants :**\t\n",
    "    - Bella Italia\tItalian recommendations: Approximately 53.85%\n",
    "    - Pasta Palace\tItalian recommendations: Approximately 10.00%<br>\n",
    "Users who last visited an Italian restaurant(Bella Italia) have a strong preference for Italian recommendations but not true for Pasta Palace Restaurant\n",
    "\t\n",
    "<span style=\"color:green\">**The type of cuisine of the last visited restaurant may have some impact on users trust in the next recommendation. \n",
    "These observations indicate that there might be some influence of the last visited restaurant's cuisine type on users trust in recommendations of the same cuisine, but the impact varies depending on the specific cuisine\n",
    "There are exceptions, users may trust other cuisines as well.** </span>"
   ]
  },
  {
   "cell_type": "markdown",
   "metadata": {},
   "source": [
    "###  <span style=\"color:red\">Suggestions on how company can improve its recommendation algorithm to better cater to user preferences and improve reservation rates</span>"
   ]
  },
  {
   "cell_type": "markdown",
   "metadata": {},
   "source": [
    "1. **Personalization**- Utilize user data more effectively to provide personalized recommendations based on preferences. Consider factors like past restaurant choices and visit ratings.\n",
    "2. **A/B Testing**- Conduct A/B testing to evaluate different recommendation strategies and algorithms to determine which ones are most effective in increasing clicks and reservations.\n",
    "3. **Feedback Mechanism**- A feedback system where users can rate and review the recommended restaurants. This feedback can be used to refine the recommendations and improve user satisfaction.\n",
    "4. **Offers/Loyalty Program**-\n",
    "    - Offer incentives such as discounts or loyalty rewards for users who make reservations through recommendations, encouraging more users to follow through with reservations.\n",
    "    - Offer different recommendations to users in different age groups or with different preferred cuisines.\n",
    "5. **Collaborations**- Collaborate with restaurants to provide exclusive offers or deals for users who make reservations through the platform, making the recommendation more appealing."
   ]
  },
  {
   "cell_type": "markdown",
   "metadata": {},
   "source": [
    "## <span style=\"color:red\">Optimizing Restaurant Recommendation Engine</span>"
   ]
  },
  {
   "cell_type": "markdown",
   "metadata": {},
   "source": [
    "* The analysis of Comapnay's recommendation system reveals moderate success in terms of user clicks and reservations with an average user click rate of approximately 49.35% and an average reservation rate of around 33.67%. \n",
    "* It highlights that recommendations are most effective for the 55+ age group and for cuisines like Vegan and Continental. \n",
    "* Overall, users seem satisfied, with visit ratings averaging around 4.0 across age groups.\n",
    "* To improve the recommendation system, Company can consider personalization, A/B testing, and user feedback mechanisms. \n",
    "* Offering incentives and collaborations with restaurants can also enhance reservation rates."
   ]
  },
  {
   "cell_type": "code",
   "execution_count": null,
   "metadata": {},
   "outputs": [],
   "source": []
  }
 ],
 "metadata": {
  "kernelspec": {
   "display_name": "Python 3",
   "language": "python",
   "name": "python3"
  },
  "language_info": {
   "codemirror_mode": {
    "name": "ipython",
    "version": 3
   },
   "file_extension": ".py",
   "mimetype": "text/x-python",
   "name": "python",
   "nbconvert_exporter": "python",
   "pygments_lexer": "ipython3",
   "version": "3.8.5"
  }
 },
 "nbformat": 4,
 "nbformat_minor": 4
}
